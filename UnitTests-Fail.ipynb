{
 "cells": [
  {
   "cell_type": "markdown",
   "metadata": {},
   "source": [
    "# CAS HW Unit Tests"
   ]
  },
  {
   "cell_type": "markdown",
   "metadata": {},
   "source": [
    "Extract some of your code into a function (or take an existing function) from one of your projects and write two unit tests for the function. One unit test should pass and one should fail. Commit the code and the unit tests to a GitHub repository. Submit the link to the commit with the code and test and write a brief paragraph about what testing framework you have chosen and why."
   ]
  },
  {
   "cell_type": "code",
   "execution_count": 1,
   "metadata": {},
   "outputs": [
    {
     "name": "stderr",
     "output_type": "stream",
     "text": [
      "/Users/hf/anaconda3/lib/python3.7/site-packages/pandas/compat/_optional.py:138: UserWarning: Pandas requires version '2.7.0' or newer of 'numexpr' (version '2.6.9' currently installed).\n",
      "  warnings.warn(msg, UserWarning)\n"
     ]
    }
   ],
   "source": [
    "import pandas as pd\n",
    "import csv\n",
    "import math "
   ]
  },
  {
   "cell_type": "markdown",
   "metadata": {},
   "source": [
    "### Loading population data. "
   ]
  },
  {
   "cell_type": "code",
   "execution_count": 2,
   "metadata": {},
   "outputs": [
    {
     "name": "stdout",
     "output_type": "stream",
     "text": [
      "    Year     ABW        AFE       AFG        AFW       AGO      ALB    AND  \\\n",
      "0   1960   54608  130692579   8622466   97256290   5357195  1608800   9443   \n",
      "1   1961   55811  134169237   8790140   99314028   5441333  1659800  10216   \n",
      "2   1962   56682  137835590   8969047  101445032   5521400  1711319  11014   \n",
      "3   1963   57475  141630546   9157465  103667517   5599827  1762621  11839   \n",
      "4   1964   58178  145605995   9355514  105959979   5673199  1814135  12690   \n",
      "..   ...     ...        ...       ...        ...       ...      ...    ...   \n",
      "57  2017  105439  632746296  35643418  431138704  30208628  2873457  73837   \n",
      "58  2018  105962  649756874  36686784  442646825  31273533  2866376  75013   \n",
      "59  2019  106442  667242712  37769499  454306063  32353588  2854191  76343   \n",
      "60  2020  106585  685112705  38972230  466189102  33428486  2837849  77700   \n",
      "61  2021  106537  702976832  40099462  478185907  34503774  2811666  79034   \n",
      "\n",
      "          ARB      ARE  ...     VIR       VNM     VUT         WLD     WSM  \\\n",
      "0    93359407   133426  ...   32500  32718461   64608  3031564839  113335   \n",
      "1    95760348   140984  ...   34300  33621982   66462  3072510552  116820   \n",
      "2    98268683   148877  ...   35000  34533889   68391  3126934725  120163   \n",
      "3   100892507   157006  ...   39800  35526727   70400  3193508879  123416   \n",
      "4   103618568   165305  ...   40800  36509166   72493  3260517816  126582   \n",
      "..        ...      ...  ...     ...       ...     ...         ...     ...   \n",
      "57  423664839  9068296  ...  107281  94033048  290239  7578157615  207630   \n",
      "58  432545676  9140169  ...  107001  94914330  297298  7661776338  209701   \n",
      "59  441467739  9211657  ...  106669  95776716  304404  7742681934  211905   \n",
      "60  449228296  9287289  ...  106290  96648685  311685  7820981524  214929   \n",
      "61  456520777  9365145  ...  105870  97468029  319137  7888408686  218764   \n",
      "\n",
      "        XKX       YEM       ZAF       ZMB       ZWE  \n",
      "0    947000   5542459  16520441   3119430   3806310  \n",
      "1    966000   5646668  16989464   3219451   3925952  \n",
      "2    994000   5753386  17503133   3323427   4049778  \n",
      "3   1022000   5860197  18042215   3431381   4177931  \n",
      "4   1050000   5973803  18603097   3542764   4310332  \n",
      "..      ...       ...       ...       ...       ...  \n",
      "57  1791003  30034389  56641209  17298054  14751101  \n",
      "58  1797085  30790513  57339635  17835893  15052184  \n",
      "59  1788878  31546691  58087055  18380477  15354608  \n",
      "60  1790133  32284046  58801927  18927715  15669666  \n",
      "61  1786038  32981641  59392255  19473125  15993524  \n",
      "\n",
      "[62 rows x 267 columns]\n"
     ]
    }
   ],
   "source": [
    "import pandas as pd \n",
    "myFilepop = pd.read_csv('file-population.csv', sep=',')\n",
    "\n",
    "print(myFilepop)"
   ]
  },
  {
   "cell_type": "code",
   "execution_count": 3,
   "metadata": {},
   "outputs": [
    {
     "name": "stdout",
     "output_type": "stream",
     "text": [
      "    Year         WLD\n",
      "0   1960  3031564839\n",
      "1   1961  3072510552\n",
      "2   1962  3126934725\n",
      "3   1963  3193508879\n",
      "4   1964  3260517816\n",
      "..   ...         ...\n",
      "57  2017  7578157615\n",
      "58  2018  7661776338\n",
      "59  2019  7742681934\n",
      "60  2020  7820981524\n",
      "61  2021  7888408686\n",
      "\n",
      "[62 rows x 2 columns]\n"
     ]
    }
   ],
   "source": [
    "dfpop = myFilepop[[\"Year\",\"WLD\"]]\n",
    "print(dfpop)\n",
    "# unit of population is thousands - it turned out that it is not. I can use the value as it is"
   ]
  },
  {
   "cell_type": "code",
   "execution_count": 4,
   "metadata": {},
   "outputs": [
    {
     "name": "stdout",
     "output_type": "stream",
     "text": [
      "{1960: 3031564839, 1961: 3072510552, 1962: 3126934725, 1963: 3193508879, 1964: 3260517816, 1965: 3328284623, 1966: 3398561224, 1967: 3468457168, 1968: 3540254815, 1969: 3614668576, 1970: 3690306927, 1971: 3768023181, 1972: 3843695351, 1973: 3920099706, 1974: 3995972023, 1975: 4070114517, 1976: 4143194666, 1977: 4215940807, 1978: 4289914737, 1979: 4365850756, 1980: 4442440474, 1981: 4520991254, 1982: 4602763792, 1983: 4684941826, 1984: 4766716805, 1985: 4850160867, 1986: 4936097368, 1987: 5024386163, 1988: 5113492328, 1989: 5202698711, 1990: 5293517142, 1991: 5382656065, 1992: 5470276947, 1993: 5556722537, 1994: 5642128764, 1995: 5726801833, 1996: 5811624986, 1997: 5896077736, 1998: 5979730356, 1999: 6062281732, 2000: 6144322697, 2001: 6226339538, 2002: 6308092739, 2003: 6389383352, 2004: 6470821068, 2005: 6552571570, 2006: 6634935638, 2007: 6717641730, 2008: 6801408360, 2009: 6885490816, 2010: 6969631901, 2011: 7053533350, 2012: 7140895722, 2013: 7229184551, 2014: 7317508753, 2015: 7404910892, 2016: 7491934113, 2017: 7578157615, 2018: 7661776338, 2019: 7742681934, 2020: 7820981524, 2021: 7888408686}\n"
     ]
    }
   ],
   "source": [
    "dictpopWorld = dict(zip(dfpop.Year, dfpop.WLD))\n",
    "print(dictpopWorld)\n"
   ]
  },
  {
   "cell_type": "code",
   "execution_count": 5,
   "metadata": {},
   "outputs": [
    {
     "data": {
      "text/plain": [
       "60"
      ]
     },
     "execution_count": 5,
     "metadata": {},
     "output_type": "execute_result"
    }
   ],
   "source": [
    "def calculatetime2(dictpop):\n",
    "    \n",
    "    firstkey = list(dictpop.keys())[1]\n",
    "    lastkey = list(dictpop.keys())[-1]\n",
    "    y = lastkey - firstkey\n",
    "    \n",
    "    return y \n",
    "\n",
    "calculatetime2(dictpopWorld)\n"
   ]
  },
  {
   "cell_type": "code",
   "execution_count": 6,
   "metadata": {},
   "outputs": [
    {
     "name": "stderr",
     "output_type": "stream",
     "text": [
      "test_year2 (__main__.Testyear2) ... FAIL\n",
      "\n",
      "======================================================================\n",
      "FAIL: test_year2 (__main__.Testyear2)\n",
      "----------------------------------------------------------------------\n",
      "Traceback (most recent call last):\n",
      "  File \"<ipython-input-6-32be40a32ece>\", line 7, in test_year2\n",
      "    self.assertAlmostEqual(calculatetime2(dictpopWorld), 61)\n",
      "AssertionError: 60 != 61 within 7 places (1 difference)\n",
      "\n",
      "----------------------------------------------------------------------\n",
      "Ran 1 test in 0.002s\n",
      "\n",
      "FAILED (failures=1)\n"
     ]
    },
    {
     "data": {
      "text/plain": [
       "<unittest.main.TestProgram at 0x7fa96fa3b2b0>"
      ]
     },
     "execution_count": 6,
     "metadata": {},
     "output_type": "execute_result"
    }
   ],
   "source": [
    "import unittest \n",
    "import math \n",
    "\n",
    "class Testyear2(unittest.TestCase):\n",
    "    \n",
    "    def test_year2(self):\n",
    "        self.assertAlmostEqual(calculatetime2(dictpopWorld), 61)\n",
    "        \n",
    "unittest.main(argv=[''], verbosity=2, exit=False)"
   ]
  },
  {
   "cell_type": "code",
   "execution_count": null,
   "metadata": {},
   "outputs": [],
   "source": []
  }
 ],
 "metadata": {
  "kernelspec": {
   "display_name": "Python 3",
   "language": "python",
   "name": "python3"
  },
  "language_info": {
   "codemirror_mode": {
    "name": "ipython",
    "version": 3
   },
   "file_extension": ".py",
   "mimetype": "text/x-python",
   "name": "python",
   "nbconvert_exporter": "python",
   "pygments_lexer": "ipython3",
   "version": "3.7.3"
  }
 },
 "nbformat": 4,
 "nbformat_minor": 2
}
